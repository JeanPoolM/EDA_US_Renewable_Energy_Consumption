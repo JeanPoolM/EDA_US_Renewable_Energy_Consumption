{
 "cells": [
  {
   "cell_type": "markdown",
   "id": "538f42c9",
   "metadata": {},
   "source": [
    "\n",
    "---\n",
    "# 2. Limpieza y Preprocesamiento de Datos - Consumo Energía Renovable EE.UU.\n",
    "---\n",
    "## Objetivos del Notebook\n",
    "* Corregir tipos de datos (datetime, numéricos, categóricos).\n",
    "* Manejar valores especiales (ceros) y valores faltantes (NaNs).\n",
    "* Realizar validaciones de consistencia.\n",
    "* Guardar el dataset limpio y procesado para análisis posteriores."
   ]
  },
  {
   "cell_type": "markdown",
   "id": "87b8221e",
   "metadata": {},
   "source": [
    "## 2.1. Configuración del Entorno"
   ]
  },
  {
   "cell_type": "markdown",
   "id": "daa1be6c",
   "metadata": {},
   "source": [
    "* Importación de librerías (pandas, numpy)."
   ]
  },
  {
   "cell_type": "code",
   "execution_count": 36,
   "id": "1af35d37",
   "metadata": {},
   "outputs": [],
   "source": [
    "import pandas as pd\n",
    "import numpy as np\n",
    "import os\n",
    "import sys\n",
    "import missingno as msno\n",
    "import matplotlib.pyplot as plt"
   ]
  },
  {
   "cell_type": "markdown",
   "id": "07d517ad",
   "metadata": {},
   "source": [
    "* Definición de rutas (datos crudos de entrada, datos procesados de salida)."
   ]
  },
  {
   "cell_type": "code",
   "execution_count": 37,
   "id": "db128471",
   "metadata": {},
   "outputs": [],
   "source": [
    "# Definiendo el path o ruta hacia el dataset original\n",
    "data_path = os.path.join('..', 'data', '01_raw', 'US_Renewable_Energy_Consumption.csv')\n",
    "# Comprobando si el archivo existe\n",
    "if not os.path.exists(data_path):\n",
    "    print(f\"El archivo {data_path} no existe.\")\n",
    "    sys.exit(1)"
   ]
  },
  {
   "cell_type": "markdown",
   "id": "e06126b3",
   "metadata": {},
   "source": [
    "* Carga del dataset crudo."
   ]
  },
  {
   "cell_type": "code",
   "execution_count": 38,
   "id": "a043e554",
   "metadata": {},
   "outputs": [],
   "source": [
    "# Cargando el dataset original\n",
    "df = pd.read_csv(data_path, sep=',', encoding='utf-8', low_memory=False)"
   ]
  },
  {
   "cell_type": "markdown",
   "id": "d0fa606c",
   "metadata": {},
   "source": [
    "## 2.2. Corrección de Tipos de Datos"
   ]
  },
  {
   "cell_type": "markdown",
   "id": "09adb64c",
   "metadata": {},
   "source": [
    "* Combinar `Year` y `Month` en una columna `datetime`."
   ]
  },
  {
   "cell_type": "code",
   "execution_count": 39,
   "id": "ef46d9c4",
   "metadata": {},
   "outputs": [
    {
     "data": {
      "text/html": [
       "<div>\n",
       "<style scoped>\n",
       "    .dataframe tbody tr th:only-of-type {\n",
       "        vertical-align: middle;\n",
       "    }\n",
       "\n",
       "    .dataframe tbody tr th {\n",
       "        vertical-align: top;\n",
       "    }\n",
       "\n",
       "    .dataframe thead th {\n",
       "        text-align: right;\n",
       "    }\n",
       "</style>\n",
       "<table border=\"1\" class=\"dataframe\">\n",
       "  <thead>\n",
       "    <tr style=\"text-align: right;\">\n",
       "      <th></th>\n",
       "      <th>Sector</th>\n",
       "      <th>Hydroelectric Power</th>\n",
       "      <th>Geothermal Energy</th>\n",
       "      <th>Solar Energy</th>\n",
       "      <th>Wind Energy</th>\n",
       "      <th>Wood Energy</th>\n",
       "      <th>Waste Energy</th>\n",
       "      <th>Fuel Ethanol, Excluding Denaturant</th>\n",
       "      <th>Biomass Losses and Co-products</th>\n",
       "      <th>Biomass Energy</th>\n",
       "      <th>Total Renewable Energy</th>\n",
       "      <th>Renewable Diesel Fuel</th>\n",
       "      <th>Other Biofuels</th>\n",
       "      <th>Conventional Hydroelectric Power</th>\n",
       "      <th>Biodiesel</th>\n",
       "    </tr>\n",
       "    <tr>\n",
       "      <th>Datetime</th>\n",
       "      <th></th>\n",
       "      <th></th>\n",
       "      <th></th>\n",
       "      <th></th>\n",
       "      <th></th>\n",
       "      <th></th>\n",
       "      <th></th>\n",
       "      <th></th>\n",
       "      <th></th>\n",
       "      <th></th>\n",
       "      <th></th>\n",
       "      <th></th>\n",
       "      <th></th>\n",
       "      <th></th>\n",
       "      <th></th>\n",
       "    </tr>\n",
       "  </thead>\n",
       "  <tbody>\n",
       "    <tr>\n",
       "      <th>1973-01-01</th>\n",
       "      <td>Commerical</td>\n",
       "      <td>0.000</td>\n",
       "      <td>0.000</td>\n",
       "      <td>0.0</td>\n",
       "      <td>0.0</td>\n",
       "      <td>0.570</td>\n",
       "      <td>0.000</td>\n",
       "      <td>0.0</td>\n",
       "      <td>0.0</td>\n",
       "      <td>0.570</td>\n",
       "      <td>0.570</td>\n",
       "      <td>0.0</td>\n",
       "      <td>0.0</td>\n",
       "      <td>0.000</td>\n",
       "      <td>0.0</td>\n",
       "    </tr>\n",
       "    <tr>\n",
       "      <th>1973-01-01</th>\n",
       "      <td>Electric Power</td>\n",
       "      <td>0.000</td>\n",
       "      <td>0.490</td>\n",
       "      <td>0.0</td>\n",
       "      <td>0.0</td>\n",
       "      <td>0.054</td>\n",
       "      <td>0.157</td>\n",
       "      <td>0.0</td>\n",
       "      <td>0.0</td>\n",
       "      <td>0.211</td>\n",
       "      <td>89.223</td>\n",
       "      <td>0.0</td>\n",
       "      <td>0.0</td>\n",
       "      <td>88.522</td>\n",
       "      <td>0.0</td>\n",
       "    </tr>\n",
       "    <tr>\n",
       "      <th>1973-01-01</th>\n",
       "      <td>Industrial</td>\n",
       "      <td>1.040</td>\n",
       "      <td>0.000</td>\n",
       "      <td>0.0</td>\n",
       "      <td>0.0</td>\n",
       "      <td>98.933</td>\n",
       "      <td>0.000</td>\n",
       "      <td>0.0</td>\n",
       "      <td>0.0</td>\n",
       "      <td>98.933</td>\n",
       "      <td>99.973</td>\n",
       "      <td>0.0</td>\n",
       "      <td>0.0</td>\n",
       "      <td>0.000</td>\n",
       "      <td>0.0</td>\n",
       "    </tr>\n",
       "    <tr>\n",
       "      <th>1973-01-01</th>\n",
       "      <td>Residential</td>\n",
       "      <td>0.000</td>\n",
       "      <td>0.000</td>\n",
       "      <td>0.0</td>\n",
       "      <td>0.0</td>\n",
       "      <td>30.074</td>\n",
       "      <td>0.000</td>\n",
       "      <td>0.0</td>\n",
       "      <td>0.0</td>\n",
       "      <td>0.000</td>\n",
       "      <td>30.074</td>\n",
       "      <td>0.0</td>\n",
       "      <td>0.0</td>\n",
       "      <td>0.000</td>\n",
       "      <td>0.0</td>\n",
       "    </tr>\n",
       "    <tr>\n",
       "      <th>1973-01-01</th>\n",
       "      <td>Transportation</td>\n",
       "      <td>0.000</td>\n",
       "      <td>0.000</td>\n",
       "      <td>0.0</td>\n",
       "      <td>0.0</td>\n",
       "      <td>0.000</td>\n",
       "      <td>0.000</td>\n",
       "      <td>0.0</td>\n",
       "      <td>0.0</td>\n",
       "      <td>0.000</td>\n",
       "      <td>0.000</td>\n",
       "      <td>0.0</td>\n",
       "      <td>0.0</td>\n",
       "      <td>0.000</td>\n",
       "      <td>0.0</td>\n",
       "    </tr>\n",
       "    <tr>\n",
       "      <th>1973-02-01</th>\n",
       "      <td>Commerical</td>\n",
       "      <td>0.000</td>\n",
       "      <td>0.000</td>\n",
       "      <td>0.0</td>\n",
       "      <td>0.0</td>\n",
       "      <td>0.515</td>\n",
       "      <td>0.000</td>\n",
       "      <td>0.0</td>\n",
       "      <td>0.0</td>\n",
       "      <td>0.515</td>\n",
       "      <td>0.515</td>\n",
       "      <td>0.0</td>\n",
       "      <td>0.0</td>\n",
       "      <td>0.000</td>\n",
       "      <td>0.0</td>\n",
       "    </tr>\n",
       "    <tr>\n",
       "      <th>1973-02-01</th>\n",
       "      <td>Electric Power</td>\n",
       "      <td>0.000</td>\n",
       "      <td>0.448</td>\n",
       "      <td>0.0</td>\n",
       "      <td>0.0</td>\n",
       "      <td>0.157</td>\n",
       "      <td>0.144</td>\n",
       "      <td>0.0</td>\n",
       "      <td>0.0</td>\n",
       "      <td>0.301</td>\n",
       "      <td>79.331</td>\n",
       "      <td>0.0</td>\n",
       "      <td>0.0</td>\n",
       "      <td>78.582</td>\n",
       "      <td>0.0</td>\n",
       "    </tr>\n",
       "    <tr>\n",
       "      <th>1973-02-01</th>\n",
       "      <td>Industrial</td>\n",
       "      <td>0.962</td>\n",
       "      <td>0.000</td>\n",
       "      <td>0.0</td>\n",
       "      <td>0.0</td>\n",
       "      <td>89.359</td>\n",
       "      <td>0.000</td>\n",
       "      <td>0.0</td>\n",
       "      <td>0.0</td>\n",
       "      <td>89.359</td>\n",
       "      <td>90.320</td>\n",
       "      <td>0.0</td>\n",
       "      <td>0.0</td>\n",
       "      <td>0.000</td>\n",
       "      <td>0.0</td>\n",
       "    </tr>\n",
       "    <tr>\n",
       "      <th>1973-02-01</th>\n",
       "      <td>Residential</td>\n",
       "      <td>0.000</td>\n",
       "      <td>0.000</td>\n",
       "      <td>0.0</td>\n",
       "      <td>0.0</td>\n",
       "      <td>27.164</td>\n",
       "      <td>0.000</td>\n",
       "      <td>0.0</td>\n",
       "      <td>0.0</td>\n",
       "      <td>0.000</td>\n",
       "      <td>27.164</td>\n",
       "      <td>0.0</td>\n",
       "      <td>0.0</td>\n",
       "      <td>0.000</td>\n",
       "      <td>0.0</td>\n",
       "    </tr>\n",
       "    <tr>\n",
       "      <th>1973-02-01</th>\n",
       "      <td>Transportation</td>\n",
       "      <td>0.000</td>\n",
       "      <td>0.000</td>\n",
       "      <td>0.0</td>\n",
       "      <td>0.0</td>\n",
       "      <td>0.000</td>\n",
       "      <td>0.000</td>\n",
       "      <td>0.0</td>\n",
       "      <td>0.0</td>\n",
       "      <td>0.000</td>\n",
       "      <td>0.000</td>\n",
       "      <td>0.0</td>\n",
       "      <td>0.0</td>\n",
       "      <td>0.000</td>\n",
       "      <td>0.0</td>\n",
       "    </tr>\n",
       "  </tbody>\n",
       "</table>\n",
       "</div>"
      ],
      "text/plain": [
       "                    Sector  Hydroelectric Power  Geothermal Energy  \\\n",
       "Datetime                                                             \n",
       "1973-01-01      Commerical                0.000              0.000   \n",
       "1973-01-01  Electric Power                0.000              0.490   \n",
       "1973-01-01      Industrial                1.040              0.000   \n",
       "1973-01-01     Residential                0.000              0.000   \n",
       "1973-01-01  Transportation                0.000              0.000   \n",
       "1973-02-01      Commerical                0.000              0.000   \n",
       "1973-02-01  Electric Power                0.000              0.448   \n",
       "1973-02-01      Industrial                0.962              0.000   \n",
       "1973-02-01     Residential                0.000              0.000   \n",
       "1973-02-01  Transportation                0.000              0.000   \n",
       "\n",
       "            Solar Energy  Wind Energy  Wood Energy  Waste Energy  \\\n",
       "Datetime                                                           \n",
       "1973-01-01           0.0          0.0        0.570         0.000   \n",
       "1973-01-01           0.0          0.0        0.054         0.157   \n",
       "1973-01-01           0.0          0.0       98.933         0.000   \n",
       "1973-01-01           0.0          0.0       30.074         0.000   \n",
       "1973-01-01           0.0          0.0        0.000         0.000   \n",
       "1973-02-01           0.0          0.0        0.515         0.000   \n",
       "1973-02-01           0.0          0.0        0.157         0.144   \n",
       "1973-02-01           0.0          0.0       89.359         0.000   \n",
       "1973-02-01           0.0          0.0       27.164         0.000   \n",
       "1973-02-01           0.0          0.0        0.000         0.000   \n",
       "\n",
       "            Fuel Ethanol, Excluding Denaturant  \\\n",
       "Datetime                                         \n",
       "1973-01-01                                 0.0   \n",
       "1973-01-01                                 0.0   \n",
       "1973-01-01                                 0.0   \n",
       "1973-01-01                                 0.0   \n",
       "1973-01-01                                 0.0   \n",
       "1973-02-01                                 0.0   \n",
       "1973-02-01                                 0.0   \n",
       "1973-02-01                                 0.0   \n",
       "1973-02-01                                 0.0   \n",
       "1973-02-01                                 0.0   \n",
       "\n",
       "            Biomass Losses and Co-products  Biomass Energy  \\\n",
       "Datetime                                                     \n",
       "1973-01-01                             0.0           0.570   \n",
       "1973-01-01                             0.0           0.211   \n",
       "1973-01-01                             0.0          98.933   \n",
       "1973-01-01                             0.0           0.000   \n",
       "1973-01-01                             0.0           0.000   \n",
       "1973-02-01                             0.0           0.515   \n",
       "1973-02-01                             0.0           0.301   \n",
       "1973-02-01                             0.0          89.359   \n",
       "1973-02-01                             0.0           0.000   \n",
       "1973-02-01                             0.0           0.000   \n",
       "\n",
       "            Total Renewable Energy  Renewable Diesel Fuel  Other Biofuels  \\\n",
       "Datetime                                                                    \n",
       "1973-01-01                   0.570                    0.0             0.0   \n",
       "1973-01-01                  89.223                    0.0             0.0   \n",
       "1973-01-01                  99.973                    0.0             0.0   \n",
       "1973-01-01                  30.074                    0.0             0.0   \n",
       "1973-01-01                   0.000                    0.0             0.0   \n",
       "1973-02-01                   0.515                    0.0             0.0   \n",
       "1973-02-01                  79.331                    0.0             0.0   \n",
       "1973-02-01                  90.320                    0.0             0.0   \n",
       "1973-02-01                  27.164                    0.0             0.0   \n",
       "1973-02-01                   0.000                    0.0             0.0   \n",
       "\n",
       "            Conventional Hydroelectric Power  Biodiesel  \n",
       "Datetime                                                 \n",
       "1973-01-01                             0.000        0.0  \n",
       "1973-01-01                            88.522        0.0  \n",
       "1973-01-01                             0.000        0.0  \n",
       "1973-01-01                             0.000        0.0  \n",
       "1973-01-01                             0.000        0.0  \n",
       "1973-02-01                             0.000        0.0  \n",
       "1973-02-01                            78.582        0.0  \n",
       "1973-02-01                             0.000        0.0  \n",
       "1973-02-01                             0.000        0.0  \n",
       "1973-02-01                             0.000        0.0  "
      ]
     },
     "execution_count": 39,
     "metadata": {},
     "output_type": "execute_result"
    }
   ],
   "source": [
    "# Se combinan las columnas 'Year' y 'Month' para crear una nueva columna 'Datetime' si no existe\n",
    "if 'Datetime' not in df.columns:\n",
    "    # Comprobando si las columnas 'Year' y 'Month' existen en el DataFrame\n",
    "    if 'Year' in df.columns and 'Month' in df.columns:\n",
    "        # Combinando columnas de Year y Month para crear una nueva columna 'Datetime'\n",
    "        df['Datetime'] = pd.to_datetime(df['Year'].astype(str) + '-' + df['Month'].astype(str), format='%Y-%m')\n",
    "        # eliminando las columnas 'Year' y 'Month'\n",
    "        df.drop(['Year', 'Month'], axis=1, inplace=True)  # Eliminando las columnas 'Year' y 'Month'\n",
    "        # Se establece la columna 'Datetime' como índice del DataFrame\n",
    "        df.set_index('Datetime', inplace=True)  # Estableciendo la columna 'Datetime' como índice del DataFrame\n",
    "        df.sort_index(inplace=True) # Ordenando el DataFrame por la columna 'Datetime'\n",
    "# Comprobando la información del dataset\n",
    "df.head(10)  # Información general del dataset"
   ]
  },
  {
   "cell_type": "markdown",
   "id": "8212ec5d",
   "metadata": {},
   "source": [
    "* Convertir columna `Sector` a tipo `category`."
   ]
  },
  {
   "cell_type": "code",
   "execution_count": 40,
   "id": "72fb74f3",
   "metadata": {},
   "outputs": [
    {
     "data": {
      "text/plain": [
       "Sector                                category\n",
       "Hydroelectric Power                    float64\n",
       "Geothermal Energy                      float64\n",
       "Solar Energy                           float64\n",
       "Wind Energy                            float64\n",
       "Wood Energy                            float64\n",
       "Waste Energy                           float64\n",
       "Fuel Ethanol, Excluding Denaturant     float64\n",
       "Biomass Losses and Co-products         float64\n",
       "Biomass Energy                         float64\n",
       "Total Renewable Energy                 float64\n",
       "Renewable Diesel Fuel                  float64\n",
       "Other Biofuels                         float64\n",
       "Conventional Hydroelectric Power       float64\n",
       "Biodiesel                              float64\n",
       "dtype: object"
      ]
     },
     "execution_count": 40,
     "metadata": {},
     "output_type": "execute_result"
    }
   ],
   "source": [
    "# se convierten la columna 'Sector' a tipo categórico\n",
    "df['Sector'] = df['Sector'].astype('category')  # Convertir la columna 'Sector' a tipo categórico\n",
    "# se verifica si la columna 'Sector' es de tipo categórico\n",
    "df.dtypes  # Verificar el tipo de dato de la columna 'Sector'"
   ]
  },
  {
   "cell_type": "markdown",
   "id": "c26b9a62",
   "metadata": {},
   "source": [
    "## 2.4. Manejo de Valores Especiales (Ceros como Nulos)"
   ]
  },
  {
   "cell_type": "markdown",
   "id": "3d768940",
   "metadata": {},
   "source": [
    "* Identificar columnas de consumo de energía."
   ]
  },
  {
   "cell_type": "code",
   "execution_count": 41,
   "id": "09bb2c85",
   "metadata": {},
   "outputs": [
    {
     "data": {
      "text/plain": [
       "['Hydroelectric Power',\n",
       " 'Geothermal Energy',\n",
       " 'Solar Energy',\n",
       " 'Wind Energy',\n",
       " 'Wood Energy',\n",
       " 'Waste Energy',\n",
       " 'Fuel Ethanol, Excluding Denaturant',\n",
       " 'Biomass Losses and Co-products',\n",
       " 'Biomass Energy',\n",
       " 'Total Renewable Energy',\n",
       " 'Renewable Diesel Fuel',\n",
       " 'Other Biofuels',\n",
       " 'Conventional Hydroelectric Power',\n",
       " 'Biodiesel']"
      ]
     },
     "execution_count": 41,
     "metadata": {},
     "output_type": "execute_result"
    }
   ],
   "source": [
    "# Define las columnas de consumo\n",
    "consumption_columns = [\n",
    "    'Hydroelectric Power', 'Geothermal Energy', 'Solar Energy',\n",
    "    'Wind Energy', 'Wood Energy', 'Waste Energy',\n",
    "    'Fuel Ethanol, Excluding Denaturant','Biomass Losses and Co-products',\n",
    "    'Biomass Energy', 'Total Renewable Energy','Renewable Diesel Fuel',\n",
    "    'Other Biofuels','Conventional Hydroelectric Power', 'Biodiesel'\n",
    "]\n",
    "consumption_columns "
   ]
  },
  {
   "cell_type": "markdown",
   "id": "fa2b752a",
   "metadata": {},
   "source": [
    "* Reemplazar valores `0` por `np.nan` en estas columnas, justificando según la descripción del dataset."
   ]
  },
  {
   "cell_type": "code",
   "execution_count": 42,
   "id": "c83c35bc",
   "metadata": {},
   "outputs": [],
   "source": [
    "# Reemplaza 0 con NaN en esas columnas\n",
    "df[consumption_columns] = df[consumption_columns].replace(0, np.nan)"
   ]
  },
  {
   "cell_type": "markdown",
   "id": "3d470dc4",
   "metadata": {},
   "source": [
    "* Verificar la conversión (ej. `df[consumption_cols].isnull().sum()`)."
   ]
  },
  {
   "cell_type": "code",
   "execution_count": 43,
   "id": "66766941",
   "metadata": {},
   "outputs": [
    {
     "name": "stdout",
     "output_type": "stream",
     "text": [
      "Conteo de NaNs por columna después del reemplazo:\n",
      "Hydroelectric Power                   2040\n",
      "Geothermal Energy                     1189\n",
      "Solar Energy                          1330\n",
      "Wind Energy                           2274\n",
      "Wood Energy                            613\n",
      "Waste Energy                          1514\n",
      "Fuel Ethanol, Excluding Denaturant    1514\n",
      "Biomass Losses and Co-products        2548\n",
      "Biomass Energy                         709\n",
      "Total Renewable Energy                 613\n",
      "Renewable Diesel Fuel                 2908\n",
      "Other Biofuels                        2944\n",
      "Conventional Hydroelectric Power      2452\n",
      "Biodiesel                             2788\n",
      "dtype: int64\n"
     ]
    }
   ],
   "source": [
    "# Verifica el cambio\n",
    "print(\"Conteo de NaNs por columna después del reemplazo:\")\n",
    "print(df[consumption_columns].isnull().sum())"
   ]
  },
  {
   "cell_type": "markdown",
   "id": "1e752024",
   "metadata": {},
   "source": [
    "* Guardado de Dataset intermediario"
   ]
  },
  {
   "cell_type": "code",
   "execution_count": 44,
   "id": "a9969d53",
   "metadata": {},
   "outputs": [],
   "source": [
    "# Se guarda el Dataset intermedio en la carpeta 02_intermediate\n",
    "intermediate_path = os.path.join('..', 'data', '02_intermediate')\n",
    "if not os.path.exists(intermediate_path):\n",
    "    os.makedirs(intermediate_path)  # Crear la carpeta si no existe\n",
    "# Se guarda el DataFrame intermedio en un archivo CSV\n",
    "df.to_csv(os.path.join(intermediate_path, 'US_Renewable_Energy_Consumption_Intermediate.csv'), index=True, encoding='utf-8')"
   ]
  },
  {
   "cell_type": "markdown",
   "id": "812c654f",
   "metadata": {},
   "source": [
    "## 2.5. Análisis y Tratamiento de Valores Faltantes (NaNs)\n",
    "\n",
    "Tal y como se especifica en el Dataset descargado, es importante considerar que los valores correspondientes a 0, no corresponden a consumos reales, si no mas bíen corresponden a datos faltantes que pueden ser no existentes o reportados a la fecha, para una mejor interpretación de la base de datos y para no realizar el analisis con información incorrecta, estos valores se deben tomar como NaN (No a Number), y luego de esto se excluiran del analisis y se justificará esta acción en base de acuerdo a algún acontecimiento historico de ser posible."
   ]
  },
  {
   "cell_type": "markdown",
   "id": "37cfcbd0",
   "metadata": {},
   "source": [
    "* Visualizar patrones de valores faltantes (`missingno` library)."
   ]
  },
  {
   "cell_type": "code",
   "execution_count": 45,
   "id": "0bad8776",
   "metadata": {},
   "outputs": [
    {
     "name": "stderr",
     "output_type": "stream",
     "text": [
      "c:\\Users\\acer\\OneDrive\\Escritorio\\Topicos_especiales_ii\\us_renewable_energy_analysis\\venv\\Lib\\site-packages\\missingno\\missingno.py:61: UserWarning: Plotting a sparkline on an existing axis is not currently supported. To remove this warning, set sparkline=False.\n",
      "  warnings.warn(\n"
     ]
    },
    {
     "data": {
      "image/png": "[encoded data removed]",
      "text/plain": [
       "<Figure size 800x1200 with 1 Axes>"
      ]
     },
     "metadata": {},
     "output_type": "display_data"
    }
   ],
   "source": [
    "#  Dibuja la matriz de missing values\n",
    "fig, ax = plt.subplots(figsize=(8, 12))\n",
    "msno.matrix(df[consumption_columns], ax=ax)\n",
    "\n",
    "# Calcula posiciones buscando la primera fila para cada 1-enero\n",
    "positions = []\n",
    "labels    = []\n",
    "years = range(1973, 2025)\n",
    "for y in years:\n",
    "    ts = pd.Timestamp(f'{y}-01-01')\n",
    "    # obtén todas las posiciones donde el índice == ts\n",
    "    locs = np.where(df.index == ts)[0]\n",
    "    if locs.size > 0:\n",
    "        positions.append(locs[0])  # primeras aparición\n",
    "        labels.append(y)\n",
    "\n",
    "# 4) Fija ticks y etiquetas\n",
    "ax.set_yticks(positions)\n",
    "ax.set_yticklabels(labels, fontsize=8, rotation=0, va='center')\n",
    "\n",
    "# 5) Invierte el eje Y\n",
    "ax.set_ylim(len(df), 0)\n",
    "\n",
    "# 6) Ajustes finales\n",
    "ax.set_ylabel('Año', fontsize=10)\n",
    "ax.set_title('Matriz de valores faltantes en las columnas de consumo', pad=15)\n",
    "plt.tight_layout()\n",
    "plt.show()\n",
    "\n"
   ]
  },
  {
   "cell_type": "markdown",
   "id": "ee82d1a3",
   "metadata": {},
   "source": [
    "#### **Hallazgo Notable**\n",
    "\n",
    "En la gráfica de la matriz de valores faltantes, se aprecia que las energías provenientes de Energía de residuos, Energía Solar,Energía Eólica, Bioetanol, Biomasa y derivados, etc, presentan información a partir de ciertos años en adelante, esto puede ser debido a que estas tecnológias para la generación de energía se fueron desarrollando e implementado en los últimos años, por lo que a partir de 1973 solo existe información de las fuentes convencionales de energía."
   ]
  },
  {
   "cell_type": "markdown",
   "id": "efb7ba36",
   "metadata": {},
   "source": [
    "* Imputación de Datos"
   ]
  },
  {
   "cell_type": "code",
   "execution_count": 46,
   "id": "de8e82f2",
   "metadata": {},
   "outputs": [
    {
     "name": "stdout",
     "output_type": "stream",
     "text": [
      "            Solar Energy  Wind Energy\n",
      "Datetime                             \n",
      "1973-01-01        0.0000        0.000\n",
      "1973-01-01        0.0000        0.000\n",
      "1973-01-01        0.0000        0.000\n",
      "1973-01-01        0.0000        0.000\n",
      "1973-01-01        0.0000        0.000\n",
      "...                  ...          ...\n",
      "1985-12-01        0.0010        0.001\n",
      "1985-12-01        0.0010        0.001\n",
      "1985-12-01        0.0012        0.001\n",
      "1985-12-01        0.0014        0.001\n",
      "1985-12-01        0.0016        0.001\n",
      "\n",
      "[780 rows x 2 columns]\n",
      "            Solar Energy  Wind Energy\n",
      "Datetime                             \n",
      "1985-01-01      0.001900     0.002400\n",
      "1985-01-01      0.002000     0.002000\n",
      "1985-01-01      0.002133     0.002400\n",
      "1985-01-01      0.002267     0.002800\n",
      "1985-01-01      0.002400     0.003200\n",
      "...                  ...          ...\n",
      "2022-12-01      3.538000     0.051000\n",
      "2022-12-01     22.980000   131.884000\n",
      "2022-12-01      0.825000     0.040000\n",
      "2022-12-01     12.314000     0.045333\n",
      "2022-12-01      8.102000     0.050667\n",
      "\n",
      "[2280 rows x 2 columns]\n"
     ]
    }
   ],
   "source": [
    "# 1. Crear una copia para no modificar el df original directamente en este paso exploratorio\n",
    "df_imputed = df.copy()\n",
    "\n",
    "# 2. Iterar por cada columna de consumo\n",
    "for column in consumption_columns:\n",
    "    # Encontrar el índice (fecha) de la primera observación válida (no NaN)\n",
    "    first_valid_index = df_imputed[column].first_valid_index()\n",
    "\n",
    "    if first_valid_index is not None:\n",
    "        # Si hay al menos un valor válido en la columna:\n",
    "\n",
    "        # a) Poner a CERO todos los valores ANTES de la primera observación válida real.\n",
    "        # Esto corrige la interpolación que pudo haber rellenado NaNs al inicio de la serie donde la tecnología aún no existía o no se medía.\n",
    "        df_imputed.loc[:first_valid_index, column] = df_imputed.loc[:first_valid_index, column].fillna(0)\n",
    "        # Es importante el .fillna(0) anterior por si first_valid_index era el primer dato y no había nada que interpolar antes.\n",
    "        # Y también, nos aseguramos que todo antes de la primera medición REAL sea cero.\n",
    "        \n",
    "        # b) Interpolar todo en la columna (esto llenará huecos INTERNOS)\n",
    "        df_imputed.loc[first_valid_index:, column] = df_imputed.loc[first_valid_index:, column].interpolate(method='linear', limit_direction='both')\n",
    "    else:\n",
    "        # Si TODA la columna es NaN (ningún valor válido), puedes decidir rellenarla con 0 o dejarla como NaN, dependiendo de cómo quieras tratar una fuente sin datos.\n",
    "        df_imputed[column] = df_imputed[column].fillna(0)\n",
    "    \n",
    "# Comprueba algunas columnas donde sabías que había muchos NaNs al principio, ej. 'Solar Energy'\n",
    "print(df_imputed.loc['1973':'1985', ['Solar Energy', 'Wind Energy']]) # Revisa un rango específico\n",
    "print(df_imputed.loc['1985':'2022', ['Solar Energy', 'Wind Energy']]) # Revisa un rango específico"
   ]
  },
  {
   "cell_type": "markdown",
   "id": "278318fb",
   "metadata": {},
   "source": [
    "#### **Justificación de la imputación**\n",
    "\n",
    "Para este caso, debido a un analisis realizado en la gráfica de la matriz de valores faltantes (NaNs), se determinó que los valores \"no disponibles\" previos a la aparición de cualquier valor válido de consumo en alguna fuente de energía renovable, se deben considerar como cero, esto debido a que se interpreta que en ese intervalo de tiempo la tecnológia no existía no se utilizaba, por lo que no se puede considerar como un valor faltante, sino como un valor cero. Por otro lado los valores \"no disponibles\" posteriores a la aparición de cualquier valor válido de consumo en alguna fuente de energía renovable, se deben imputar por medio de algún método, para este caso se eligío la interpolación como método apropiado debido a la tendencia de los datos."
   ]
  },
  {
   "cell_type": "markdown",
   "id": "2967bf2a",
   "metadata": {},
   "source": [
    "* Confirmación de valores únicos por `Sector` o Categoria"
   ]
  },
  {
   "cell_type": "code",
   "execution_count": 47,
   "id": "14e5bb1e",
   "metadata": {},
   "outputs": [
    {
     "data": {
      "text/plain": [
       "['Commerical', 'Electric Power', 'Industrial', 'Residential', 'Transportation']\n",
       "Categories (5, object): ['Commerical', 'Electric Power', 'Industrial', 'Residential', 'Transportation']"
      ]
     },
     "execution_count": 47,
     "metadata": {},
     "output_type": "execute_result"
    }
   ],
   "source": [
    "df_imputed[\"Sector\"].unique() # Verifica las categorías de la columna 'Sector'"
   ]
  },
  {
   "cell_type": "markdown",
   "id": "e4d53895",
   "metadata": {},
   "source": [
    "## 2.6. Guardado del Dataset Limpio"
   ]
  },
  {
   "cell_type": "markdown",
   "id": "e90fd3b1",
   "metadata": {},
   "source": [
    "* Inspección final del DataFrame limpio (`df_clean.head()`, `df_clean.info()`)."
   ]
  },
  {
   "cell_type": "code",
   "execution_count": 48,
   "id": "9447f37b",
   "metadata": {},
   "outputs": [
    {
     "data": {
      "text/html": [
       "<div>\n",
       "<style scoped>\n",
       "    .dataframe tbody tr th:only-of-type {\n",
       "        vertical-align: middle;\n",
       "    }\n",
       "\n",
       "    .dataframe tbody tr th {\n",
       "        vertical-align: top;\n",
       "    }\n",
       "\n",
       "    .dataframe thead th {\n",
       "        text-align: right;\n",
       "    }\n",
       "</style>\n",
       "<table border=\"1\" class=\"dataframe\">\n",
       "  <thead>\n",
       "    <tr style=\"text-align: right;\">\n",
       "      <th></th>\n",
       "      <th>Sector</th>\n",
       "      <th>Hydroelectric Power</th>\n",
       "      <th>Geothermal Energy</th>\n",
       "      <th>Solar Energy</th>\n",
       "      <th>Wind Energy</th>\n",
       "      <th>Wood Energy</th>\n",
       "      <th>Waste Energy</th>\n",
       "      <th>Fuel Ethanol, Excluding Denaturant</th>\n",
       "      <th>Biomass Losses and Co-products</th>\n",
       "      <th>Biomass Energy</th>\n",
       "      <th>Total Renewable Energy</th>\n",
       "      <th>Renewable Diesel Fuel</th>\n",
       "      <th>Other Biofuels</th>\n",
       "      <th>Conventional Hydroelectric Power</th>\n",
       "      <th>Biodiesel</th>\n",
       "    </tr>\n",
       "    <tr>\n",
       "      <th>Datetime</th>\n",
       "      <th></th>\n",
       "      <th></th>\n",
       "      <th></th>\n",
       "      <th></th>\n",
       "      <th></th>\n",
       "      <th></th>\n",
       "      <th></th>\n",
       "      <th></th>\n",
       "      <th></th>\n",
       "      <th></th>\n",
       "      <th></th>\n",
       "      <th></th>\n",
       "      <th></th>\n",
       "      <th></th>\n",
       "      <th></th>\n",
       "    </tr>\n",
       "  </thead>\n",
       "  <tbody>\n",
       "    <tr>\n",
       "      <th>1973-01-01</th>\n",
       "      <td>Commerical</td>\n",
       "      <td>0.00</td>\n",
       "      <td>0.00</td>\n",
       "      <td>0.0</td>\n",
       "      <td>0.0</td>\n",
       "      <td>0.570</td>\n",
       "      <td>0.000</td>\n",
       "      <td>0.0</td>\n",
       "      <td>0.0</td>\n",
       "      <td>0.570</td>\n",
       "      <td>0.570</td>\n",
       "      <td>0.0</td>\n",
       "      <td>0.0</td>\n",
       "      <td>0.000</td>\n",
       "      <td>0.0</td>\n",
       "    </tr>\n",
       "    <tr>\n",
       "      <th>1973-01-01</th>\n",
       "      <td>Electric Power</td>\n",
       "      <td>0.00</td>\n",
       "      <td>0.49</td>\n",
       "      <td>0.0</td>\n",
       "      <td>0.0</td>\n",
       "      <td>0.054</td>\n",
       "      <td>0.157</td>\n",
       "      <td>0.0</td>\n",
       "      <td>0.0</td>\n",
       "      <td>0.211</td>\n",
       "      <td>89.223</td>\n",
       "      <td>0.0</td>\n",
       "      <td>0.0</td>\n",
       "      <td>88.522</td>\n",
       "      <td>0.0</td>\n",
       "    </tr>\n",
       "    <tr>\n",
       "      <th>1973-01-01</th>\n",
       "      <td>Industrial</td>\n",
       "      <td>1.04</td>\n",
       "      <td>0.00</td>\n",
       "      <td>0.0</td>\n",
       "      <td>0.0</td>\n",
       "      <td>98.933</td>\n",
       "      <td>0.000</td>\n",
       "      <td>0.0</td>\n",
       "      <td>0.0</td>\n",
       "      <td>98.933</td>\n",
       "      <td>99.973</td>\n",
       "      <td>0.0</td>\n",
       "      <td>0.0</td>\n",
       "      <td>0.000</td>\n",
       "      <td>0.0</td>\n",
       "    </tr>\n",
       "    <tr>\n",
       "      <th>1973-01-01</th>\n",
       "      <td>Residential</td>\n",
       "      <td>0.00</td>\n",
       "      <td>0.00</td>\n",
       "      <td>0.0</td>\n",
       "      <td>0.0</td>\n",
       "      <td>30.074</td>\n",
       "      <td>0.000</td>\n",
       "      <td>0.0</td>\n",
       "      <td>0.0</td>\n",
       "      <td>0.000</td>\n",
       "      <td>30.074</td>\n",
       "      <td>0.0</td>\n",
       "      <td>0.0</td>\n",
       "      <td>0.000</td>\n",
       "      <td>0.0</td>\n",
       "    </tr>\n",
       "    <tr>\n",
       "      <th>1973-01-01</th>\n",
       "      <td>Transportation</td>\n",
       "      <td>0.00</td>\n",
       "      <td>0.00</td>\n",
       "      <td>0.0</td>\n",
       "      <td>0.0</td>\n",
       "      <td>0.000</td>\n",
       "      <td>0.000</td>\n",
       "      <td>0.0</td>\n",
       "      <td>0.0</td>\n",
       "      <td>0.000</td>\n",
       "      <td>0.000</td>\n",
       "      <td>0.0</td>\n",
       "      <td>0.0</td>\n",
       "      <td>0.000</td>\n",
       "      <td>0.0</td>\n",
       "    </tr>\n",
       "  </tbody>\n",
       "</table>\n",
       "</div>"
      ],
      "text/plain": [
       "                    Sector  Hydroelectric Power  Geothermal Energy  \\\n",
       "Datetime                                                             \n",
       "1973-01-01      Commerical                 0.00               0.00   \n",
       "1973-01-01  Electric Power                 0.00               0.49   \n",
       "1973-01-01      Industrial                 1.04               0.00   \n",
       "1973-01-01     Residential                 0.00               0.00   \n",
       "1973-01-01  Transportation                 0.00               0.00   \n",
       "\n",
       "            Solar Energy  Wind Energy  Wood Energy  Waste Energy  \\\n",
       "Datetime                                                           \n",
       "1973-01-01           0.0          0.0        0.570         0.000   \n",
       "1973-01-01           0.0          0.0        0.054         0.157   \n",
       "1973-01-01           0.0          0.0       98.933         0.000   \n",
       "1973-01-01           0.0          0.0       30.074         0.000   \n",
       "1973-01-01           0.0          0.0        0.000         0.000   \n",
       "\n",
       "            Fuel Ethanol, Excluding Denaturant  \\\n",
       "Datetime                                         \n",
       "1973-01-01                                 0.0   \n",
       "1973-01-01                                 0.0   \n",
       "1973-01-01                                 0.0   \n",
       "1973-01-01                                 0.0   \n",
       "1973-01-01                                 0.0   \n",
       "\n",
       "            Biomass Losses and Co-products  Biomass Energy  \\\n",
       "Datetime                                                     \n",
       "1973-01-01                             0.0           0.570   \n",
       "1973-01-01                             0.0           0.211   \n",
       "1973-01-01                             0.0          98.933   \n",
       "1973-01-01                             0.0           0.000   \n",
       "1973-01-01                             0.0           0.000   \n",
       "\n",
       "            Total Renewable Energy  Renewable Diesel Fuel  Other Biofuels  \\\n",
       "Datetime                                                                    \n",
       "1973-01-01                   0.570                    0.0             0.0   \n",
       "1973-01-01                  89.223                    0.0             0.0   \n",
       "1973-01-01                  99.973                    0.0             0.0   \n",
       "1973-01-01                  30.074                    0.0             0.0   \n",
       "1973-01-01                   0.000                    0.0             0.0   \n",
       "\n",
       "            Conventional Hydroelectric Power  Biodiesel  \n",
       "Datetime                                                 \n",
       "1973-01-01                             0.000        0.0  \n",
       "1973-01-01                            88.522        0.0  \n",
       "1973-01-01                             0.000        0.0  \n",
       "1973-01-01                             0.000        0.0  \n",
       "1973-01-01                             0.000        0.0  "
      ]
     },
     "execution_count": 48,
     "metadata": {},
     "output_type": "execute_result"
    }
   ],
   "source": [
    "# Se realiza una inspección visual de los datos imputados\n",
    "df_imputed.head() # Muestra las primeras filas del DataFrame imputado para verificar los cambios"
   ]
  },
  {
   "cell_type": "code",
   "execution_count": 49,
   "id": "4ed828dc",
   "metadata": {},
   "outputs": [
    {
     "name": "stdout",
     "output_type": "stream",
     "text": [
      "<class 'pandas.core.frame.DataFrame'>\n",
      "DatetimeIndex: 3065 entries, 1973-01-01 to 2024-01-01\n",
      "Data columns (total 15 columns):\n",
      " #   Column                              Non-Null Count  Dtype   \n",
      "---  ------                              --------------  -----   \n",
      " 0   Sector                              3065 non-null   category\n",
      " 1   Hydroelectric Power                 3065 non-null   float64 \n",
      " 2   Geothermal Energy                   3065 non-null   float64 \n",
      " 3   Solar Energy                        3065 non-null   float64 \n",
      " 4   Wind Energy                         3065 non-null   float64 \n",
      " 5   Wood Energy                         3065 non-null   float64 \n",
      " 6   Waste Energy                        3065 non-null   float64 \n",
      " 7   Fuel Ethanol, Excluding Denaturant  3065 non-null   float64 \n",
      " 8   Biomass Losses and Co-products      3065 non-null   float64 \n",
      " 9   Biomass Energy                      3065 non-null   float64 \n",
      " 10  Total Renewable Energy              3065 non-null   float64 \n",
      " 11  Renewable Diesel Fuel               3065 non-null   float64 \n",
      " 12  Other Biofuels                      3065 non-null   float64 \n",
      " 13  Conventional Hydroelectric Power    3065 non-null   float64 \n",
      " 14  Biodiesel                           3065 non-null   float64 \n",
      "dtypes: category(1), float64(14)\n",
      "memory usage: 426.9 KB\n"
     ]
    }
   ],
   "source": [
    "# Se verifica la información del dataset imputado.\n",
    "df_imputed.info() # Información general del dataset imputado"
   ]
  },
  {
   "cell_type": "markdown",
   "id": "d10dbb6e",
   "metadata": {},
   "source": [
    "* Guardar en formato eficiente (ej. Parquet) en `data/03_processed/`."
   ]
  },
  {
   "cell_type": "code",
   "execution_count": 50,
   "id": "80907b44",
   "metadata": {},
   "outputs": [],
   "source": [
    "# Se guarda el DataFrame procesado o limpio en un archivo CSV\n",
    "processed_path = os.path.join('..', 'data', '03_processed')\n",
    "if not os.path.exists(processed_path):\n",
    "    os.makedirs(processed_path)  # Crear la carpeta si no existe\n",
    "# Se guarda el DataFrame limpio en un archivo CSV\n",
    "df_imputed.to_csv(os.path.join(processed_path, 'US_Renewable_Energy_Consumption_Cleaned.csv'), index=True, encoding='utf-8')\n",
    "\n"
   ]
  }
 ],
 "metadata": {
  "kernelspec": {
   "display_name": "venv",
   "language": "python",
   "name": "python3"
  },
  "language_info": {
   "codemirror_mode": {
    "name": "ipython",
    "version": 3
   },
   "file_extension": ".py",
   "mimetype": "text/x-python",
   "name": "python",
   "nbconvert_exporter": "python",
   "pygments_lexer": "ipython3",
   "version": "3.12.1"
  }
 },
 "nbformat": 4,
 "nbformat_minor": 5
}
